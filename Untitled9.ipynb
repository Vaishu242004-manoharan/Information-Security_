{
  "nbformat": 4,
  "nbformat_minor": 0,
  "metadata": {
    "colab": {
      "provenance": [],
      "authorship_tag": "ABX9TyM6ila6wCqhEjVeJiKhujLM",
      "include_colab_link": true
    },
    "kernelspec": {
      "name": "python3",
      "display_name": "Python 3"
    },
    "language_info": {
      "name": "python"
    }
  },
  "cells": [
    {
      "cell_type": "markdown",
      "metadata": {
        "id": "view-in-github",
        "colab_type": "text"
      },
      "source": [
        "<a href=\"https://colab.research.google.com/github/Vaishu242004-manoharan/Information-Security_/blob/main/Untitled9.ipynb\" target=\"_parent\"><img src=\"https://colab.research.google.com/assets/colab-badge.svg\" alt=\"Open In Colab\"/></a>"
      ]
    },
    {
      "cell_type": "code",
      "execution_count": 3,
      "metadata": {
        "colab": {
          "base_uri": "https://localhost:8080/"
        },
        "id": "nVDx7TFPCQvI",
        "outputId": "7b219a64-a32b-46df-a93d-19d3af8390da"
      },
      "outputs": [
        {
          "output_type": "stream",
          "name": "stdout",
          "text": [
            "Do you want to encrypt or decrypt? (enter 'e' or 'd'): e\n",
            "Enter the text: Hello\n",
            "Enter the shift value: 3\n",
            "Result: Khoor\n"
          ]
        }
      ],
      "source": [
        "def caesar_cipher(text, shift, mode):\n",
        "    result = \"\"\n",
        "    if mode == \"d\":\n",
        "        shift = -shift  # Reverse shift for decryption\n",
        "\n",
        "    for char in text:\n",
        "        if char.isalpha():\n",
        "            base = ord('A') if char.isupper() else ord('a')\n",
        "            result += chr((ord(char) - base + shift) % 26 + base)\n",
        "        else:\n",
        "            result += char\n",
        "\n",
        "    return result\n",
        "\n",
        "\n",
        "# Ask user whether to encrypt or decrypt\n",
        "mode = input(\"Do you want to encrypt or decrypt? (enter 'e' or 'd'): \").strip().lower()\n",
        "\n",
        "if mode not in [\"e\", \"d\"]:\n",
        "    print(\"Invalid option. Please enter 'e for enc' or 'd for dec'.\")\n",
        "else:\n",
        "    text = input(\"Enter the text: \")\n",
        "    shift = int(input(\"Enter the shift value: \"))\n",
        "\n",
        "    result = caesar_cipher(text, shift, mode)\n",
        "    print(f\"Result: {result}\")"
      ]
    }
  ]
}