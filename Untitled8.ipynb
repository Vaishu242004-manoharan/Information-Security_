{
  "nbformat": 4,
  "nbformat_minor": 0,
  "metadata": {
    "colab": {
      "provenance": [],
      "authorship_tag": "ABX9TyNgRnCsbkLF9HJXmdjRTXoo",
      "include_colab_link": true
    },
    "kernelspec": {
      "name": "python3",
      "display_name": "Python 3"
    },
    "language_info": {
      "name": "python"
    }
  },
  "cells": [
    {
      "cell_type": "markdown",
      "metadata": {
        "id": "view-in-github",
        "colab_type": "text"
      },
      "source": [
        "<a href=\"https://colab.research.google.com/github/Vaishu242004-manoharan/Information-Security_/blob/main/Untitled8.ipynb\" target=\"_parent\"><img src=\"https://colab.research.google.com/assets/colab-badge.svg\" alt=\"Open In Colab\"/></a>"
      ]
    },
    {
      "cell_type": "code",
      "execution_count": 1,
      "metadata": {
        "colab": {
          "base_uri": "https://localhost:8080/"
        },
        "id": "RKlqOPdHAb_3",
        "outputId": "c678a160-346d-45d6-dfe2-a6bbeedbd985"
      },
      "outputs": [
        {
          "output_type": "stream",
          "name": "stdout",
          "text": [
            "Enter the text to hash: Hello world\n",
            "Select hashing algorithm: md5, sha1, sha256, sha512\n",
            "Enter the algorithm: sha256\n",
            "Hashed Output (sha256): 64ec88ca00b268e5ba1a35678a1b5316d212f4f366b2477232534a8aeca37f3c\n"
          ]
        }
      ],
      "source": [
        "\n",
        "import hashlib\n",
        "\n",
        "def generate_hash(text, algorithm):\n",
        "\n",
        "    if algorithm == \"md5\":\n",
        "        hash_obj = hashlib.md5(text.encode())\n",
        "    elif algorithm == \"sha1\":\n",
        "        hash_obj = hashlib.sha1(text.encode())\n",
        "    elif algorithm == \"sha256\":\n",
        "        hash_obj = hashlib.sha256(text.encode())\n",
        "    elif algorithm == \"sha512\":\n",
        "        hash_obj = hashlib.sha512(text.encode())\n",
        "    else:\n",
        "        return \"Invalid algorithm selected.\"\n",
        "\n",
        "    return hash_obj.hexdigest()  # Return the hexadecimal digest\n",
        "\n",
        "# Get user input\n",
        "text = input(\"Enter the text to hash: \")\n",
        "print(\"Select hashing algorithm: md5, sha1, sha256, sha512\")\n",
        "algorithm = input(\"Enter the algorithm: \").strip().lower()\n",
        "\n",
        "# Generate and display the hash\n",
        "hashed_text = generate_hash(text, algorithm)\n",
        "print(f\"Hashed Output ({algorithm}): {hashed_text}\")"
      ]
    }
  ]
}